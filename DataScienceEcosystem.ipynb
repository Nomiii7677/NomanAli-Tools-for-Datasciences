{
 "cells": [
  {
   "cell_type": "markdown",
   "id": "14a5fd65-78b5-4c70-8c29-3f17c9db6e09",
   "metadata": {},
   "source": [
    "<h1> Data Science Tools and Ecosystem </h1>"
   ]
  },
  {
   "cell_type": "markdown",
   "id": "caa94cd5-1a83-46f1-981b-580f34997605",
   "metadata": {},
   "source": [
    "<h2> In this notebook, Data Science Tools and Ecosystem are summarized. </h2>"
   ]
  },
  {
   "cell_type": "markdown",
   "id": "e06cbcef-a68e-474c-bd5c-0556d72f6701",
   "metadata": {},
   "source": [
    "<h3> Some of the popular languages that Data Scientists use are:</h3>\n",
    "<h4>1. Python</h4>\n",
    "<h4>2. R-Language</h4>\n",
    "<h4>3. SQL (structured Query Language)</h4>\n",
    "<h4>4. Julia</h4>\n",
    "<h4>5. Scala</h4>"
   ]
  },
  {
   "cell_type": "markdown",
   "id": "7d532cf6-4a83-4a91-8037-84244bd7bb17",
   "metadata": {},
   "source": [
    "<h3> Some of the commonly used libraries used by Data Scientists include:</h3>\n",
    "<h4>1. Pandas</h4>\n",
    "<h4>2. NumPay</h4>\n",
    "<h4>3. SciPy</h4>\n",
    "<h4>4. Matplotlib</h4>"
   ]
  },
  {
   "cell_type": "markdown",
   "id": "95032fec-35fd-4428-a46b-b66109271caf",
   "metadata": {},
   "source": [
    "<table style=\"width:20%\">\n",
    "<tr> <th>Data Science Tools</th></tr>\n",
    "    <tr> <td> Jupyter Note Book </td> </tr>\n",
    "    <tr> <td> Jupyter Lab </td> </tr>\n",
    "    <tr>  <td> Appache Zeppelin </td> </tr>\n",
    "    <tr>  <td> RStudio </td> </tr>\n",
    "    </tr> <td> Spyder </td> </tr>\n",
    "</table>"
   ]
  },
  {
   "cell_type": "markdown",
   "id": "f0cfb9fe-c3e0-4762-9f78-1eda146d6edd",
   "metadata": {},
   "source": [
    "<h3> Below are a few examples of evaluating arithmetic expressions in Python.</h3>\n",
    "<h3> # arithmatic operations</h3>\n",
    "<h4> Code = Compile (5 + 4) </h4>\n",
    "<h4> # Result: 9 </h4>\n"
   ]
  },
  {
   "cell_type": "code",
   "execution_count": 7,
   "id": "f06acf21-06ff-4151-be6b-a076288c2ffc",
   "metadata": {},
   "outputs": [
    {
     "data": {
      "text/plain": [
       "17"
      ]
     },
     "execution_count": 7,
     "metadata": {},
     "output_type": "execute_result"
    }
   ],
   "source": [
    "#This a simple arithmetic expression to mutiply then add integers.\n",
    "(3*4)+5"
   ]
  },
  {
   "cell_type": "code",
   "execution_count": 8,
   "id": "2fddddbc-1f71-4d28-a3b6-ef152129fef1",
   "metadata": {},
   "outputs": [
    {
     "data": {
      "text/plain": [
       "3.3333333333333335"
      ]
     },
     "execution_count": 8,
     "metadata": {},
     "output_type": "execute_result"
    }
   ],
   "source": [
    "#This will convert 200 minutes to hours by diving by 60.\n",
    "200/60"
   ]
  },
  {
   "cell_type": "markdown",
   "id": "f5e6913b-d425-484d-8e50-9a0a10c40cc9",
   "metadata": {},
   "source": [
    "<h1> <b> Objectives: </b> </h1>\n",
    "<ul>\n",
    "    <li>GitHub</li>\n",
    "    <li>Scala</li>\n",
    "    <li>R-Language</li>\n",
    "    <li>Tensor Flow</li>\n",
    "    <li>Watson Studio</li>\n",
    "</ul>"
   ]
  },
  {
   "cell_type": "markdown",
   "id": "03db94a3-6d7f-48af-8946-3aaca861c1b6",
   "metadata": {},
   "source": [
    "<h2> Author</h2>\n",
    "<h4> Noman Ali</h4>"
   ]
  },
  {
   "cell_type": "code",
   "execution_count": null,
   "id": "3cf96f63-bd76-4ac8-a772-818e0ec4cad2",
   "metadata": {},
   "outputs": [],
   "source": []
  }
 ],
 "metadata": {
  "kernelspec": {
   "display_name": "Python 3 (ipykernel)",
   "language": "python",
   "name": "python3"
  },
  "language_info": {
   "codemirror_mode": {
    "name": "ipython",
    "version": 3
   },
   "file_extension": ".py",
   "mimetype": "text/x-python",
   "name": "python",
   "nbconvert_exporter": "python",
   "pygments_lexer": "ipython3",
   "version": "3.12.8"
  }
 },
 "nbformat": 4,
 "nbformat_minor": 5
}
